{
 "cells": [
  {
   "cell_type": "code",
   "execution_count": 1,
   "id": "92a66b82-8a71-4ba9-af4f-da9f50ad75b8",
   "metadata": {},
   "outputs": [],
   "source": [
    "import pandas as pd\n",
    "df = pd.read_csv('./charts.csv')"
   ]
  },
  {
   "cell_type": "code",
   "execution_count": 6,
   "id": "9d80b780-3e26-4715-94a8-4159dcfce473",
   "metadata": {},
   "outputs": [
    {
     "data": {
      "text/plain": [
       "5428021"
      ]
     },
     "execution_count": 6,
     "metadata": {},
     "output_type": "execute_result"
    }
   ],
   "source": [
    "df.head()\n",
    "df.shape[0]"
   ]
  },
  {
   "cell_type": "code",
   "execution_count": 7,
   "id": "3c01cbbd-2c36-4480-97de-da243fb9ed5b",
   "metadata": {},
   "outputs": [
    {
     "data": {
      "text/plain": [
       "110292"
      ]
     },
     "execution_count": 7,
     "metadata": {},
     "output_type": "execute_result"
    }
   ],
   "source": [
    "unique_df = df.drop_duplicates(subset='track_id', keep='first')\n",
    "unique_df.shape[0]"
   ]
  },
  {
   "cell_type": "code",
   "execution_count": 11,
   "id": "fd192f5e-b73c-4fe8-a9b5-8c19e9c16f83",
   "metadata": {},
   "outputs": [],
   "source": [
    "country_mapping = {\n",
    "    'de': 'Germany',\n",
    "    'jp': 'Japan',\n",
    "    'tr': 'Turkey',\n",
    "    'co': 'Colombia',\n",
    "    'hu': 'Hungary',\n",
    "    'hk': 'Hong Kong',\n",
    "    'fi': 'Finland',\n",
    "    'at': 'Austria',\n",
    "    'eg': 'Egypt',\n",
    "    'dk': 'Denmark',\n",
    "    'sg': 'Singapore',\n",
    "    'global': 'Global',\n",
    "    'us': 'United States',\n",
    "    'br': 'Brazil',\n",
    "    'ph': 'Philippines',\n",
    "    'it': 'Italy',\n",
    "    'tw': 'Taiwan',\n",
    "    'ar': 'Argentina',\n",
    "    'se': 'Sweden',\n",
    "    'my': 'Malaysia',\n",
    "    'pt': 'Portugal',\n",
    "    'cl': 'Chile',\n",
    "    'no': 'Norway',\n",
    "    'ch': 'Switzerland',\n",
    "    'ca': 'Canada',\n",
    "    'cz': 'Czech Republic',\n",
    "    'mx': 'Mexico',\n",
    "    'lv': 'Latvia',\n",
    "    'gr': 'Greece',\n",
    "    'lt': 'Lithuania',\n",
    "    'ee': 'Estonia',\n",
    "    'pe': 'Peru',\n",
    "    'sk': 'Slovakia',\n",
    "    'bg': 'Bulgaria',\n",
    "    'mt': 'Malta',\n",
    "    'cr': 'Costa Rica',\n",
    "    'uy': 'Uruguay',\n",
    "    'sv': 'El Salvador',\n",
    "    'py': 'Paraguay',\n",
    "    'ec': 'Ecuador',\n",
    "    'bo': 'Bolivia',\n",
    "    'il': 'Israel',\n",
    "    'in': 'India',\n",
    "    'gb': 'United Kingdom',\n",
    "    'nl': 'Netherlands',\n",
    "    'za': 'South Africa',\n",
    "    'pl': 'Poland',\n",
    "    'ro': 'Romania',\n",
    "    'be': 'Belgium',\n",
    "    'fr': 'France',\n",
    "    'ru': 'Russia',\n",
    "    'ua': 'Ukraine',\n",
    "    'au': 'Australia',\n",
    "    'es': 'Spain',\n",
    "    'ie': 'Ireland',\n",
    "    'nz': 'New Zealand',\n",
    "    'is': 'Iceland',\n",
    "    'id': 'Indonesia',\n",
    "    'gt': 'Guatemala',\n",
    "    'lu': 'Luxembourg',\n",
    "    'vn': 'Vietnam',\n",
    "    'pa': 'Panama',\n",
    "    'hn': 'Honduras',\n",
    "    'ni': 'Nicaragua',\n",
    "    'do': 'Dominican Republic',\n",
    "    'th': 'Thailand',\n",
    "    'cy': 'Cyprus',\n",
    "    'ae': 'United Arab Emirates',\n",
    "    'kr': 'South Korea',\n",
    "    'sa': 'Saudi Arabia',\n",
    "    'ma': 'Morocco',\n",
    "    'ad': 'Andorra',\n",
    "    'ng': 'Nigeria',\n",
    "    'kz': 'Kazakhstan',\n",
    "    'pk': 'Pakistan',\n",
    "    'by': 'Belarus',\n",
    "    've': 'Venezuela'\n",
    "}\n",
    "\n",
    "# Map the short country names to full names\n",
    "unique_df.loc[:, 'country_fullname'] = unique_df['country'].map(country_mapping)"
   ]
  },
  {
   "cell_type": "code",
   "execution_count": 12,
   "id": "9e1d35a2-ca99-4fef-8108-a4ebe42b47be",
   "metadata": {},
   "outputs": [],
   "source": [
    "unique_df.loc[:, 'duration_minutes']= unique_df['duration'] / (1000 * 60)"
   ]
  },
  {
   "cell_type": "code",
   "execution_count": 16,
   "id": "a2c7cf03-91a8-489e-912b-9823096817fd",
   "metadata": {},
   "outputs": [
    {
     "data": {
      "text/plain": [
       "110198"
      ]
     },
     "execution_count": 16,
     "metadata": {},
     "output_type": "execute_result"
    }
   ],
   "source": [
    "unique_df = unique_df.sort_values('date')\n",
    "unique_df = unique_df.dropna(subset=['streams'])\n",
    "unique_df.shape[0]"
   ]
  },
  {
   "cell_type": "code",
   "execution_count": 17,
   "id": "3cc720d8-bf35-4b0d-8bc3-0ec863e9ea90",
   "metadata": {},
   "outputs": [],
   "source": [
    "unique_df.to_csv('./music.csv', index=False)"
   ]
  },
  {
   "cell_type": "code",
   "execution_count": null,
   "id": "e54fae2e-da61-445b-a5d5-f4c607c5d50e",
   "metadata": {},
   "outputs": [],
   "source": []
  }
 ],
 "metadata": {
  "kernelspec": {
   "display_name": "Python 3 (ipykernel)",
   "language": "python",
   "name": "python3"
  },
  "language_info": {
   "codemirror_mode": {
    "name": "ipython",
    "version": 3
   },
   "file_extension": ".py",
   "mimetype": "text/x-python",
   "name": "python",
   "nbconvert_exporter": "python",
   "pygments_lexer": "ipython3",
   "version": "3.9.6"
  }
 },
 "nbformat": 4,
 "nbformat_minor": 5
}
